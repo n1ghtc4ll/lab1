{
  "cells": [
    {
      "cell_type": "markdown",
      "metadata": {
        "id": "M-DGa20PaHnu"
      },
      "source": [
        "#Задача 1\n",
        "Написать функцию на вход которой подается строка, состоящая из латинских букв.\n",
        "Функция должна вернуть количество гласных букв (a, e, i, o, u) в этой строке. Написать тесты для кода"
      ]
    },
    {
      "cell_type": "code",
      "execution_count": null,
      "metadata": {
        "id": "XvX8X_JJ6PCb"
      },
      "outputs": [],
      "source": [
        "# Your code goes here\n",
        "def vowels_count(string):\n",
        "    vowels = ['a', 'e', 'i', 'o', 'u']\n",
        "    string_vowels = [letter for letter in string if letter in vowels]\n",
        "    return len(string_vowels)\n",
        "\n",
        "def test_vowels_count():\n",
        "    assert vowels_count('abcdefg') == 2\n",
        "    assert vowels_count('12124') == 0\n",
        "    assert vowels_count('') == 0\n",
        "    assert vowels_count('\\n') == 0\n",
        "\n",
        "\n",
        "test_vowels_count()"
      ]
    },
    {
      "cell_type": "markdown",
      "metadata": {
        "id": "t2ClV_Y0bbr6"
      },
      "source": [
        "# Задача 2\n",
        "Написать функцию на вход, которой подается строка. Функция должна вернуть true, если\n",
        "каждый символ в строке встречается только 1 раз, иначе должна вернуть false. Написать тесты для кода"
      ]
    },
    {
      "cell_type": "code",
      "execution_count": null,
      "metadata": {
        "id": "FppbECao6VIz"
      },
      "outputs": [],
      "source": [
        "# Your code goes here\n",
        "def set_check(string):\n",
        "    return len(string) == len(set(string))\n",
        "\n",
        "def test_set_check():\n",
        "    assert set_check('123abcdx') == True\n",
        "    assert set_check('abbbc') == False\n",
        "    assert set_check('  ') == False\n",
        "\n",
        "\n",
        "test_set_check()"
      ]
    },
    {
      "cell_type": "markdown",
      "metadata": {
        "id": "udRiIK1cdt6E"
      },
      "source": [
        "# Задача 3\n",
        "Написать функцию, которая принимает положительное число и возвращает количество\n",
        "бит равных 1 в этом числе. Написать тесты для кода"
      ]
    },
    {
      "cell_type": "code",
      "execution_count": null,
      "metadata": {
        "id": "6tkfDJRz6dp_"
      },
      "outputs": [],
      "source": [
        "# Your code goes here\n",
        "def bit_count(num):\n",
        "    if num > 0:\n",
        "        return bin(num)[2:].count('1')\n",
        "    return -1\n",
        "\n",
        "\n",
        "def test_bit_count():\n",
        "    assert bit_count(1313) == 4\n",
        "    assert bit_count(1024) == 1\n",
        "    assert bit_count(1023) == 10\n",
        "    assert bit_count(-1024) == -1\n",
        "\n",
        "\n",
        "test_bit_count()"
      ]
    },
    {
      "cell_type": "markdown",
      "metadata": {
        "id": "26dDUz-Ae17N"
      },
      "source": [
        "# Задача 4\n",
        "Написать функцию, которая принимает положительное число. Функция должна вернуть то,\n",
        "сколько раз необходимо перемножать цифры числа или результат перемножения, чтобы\n",
        "получилось число состоящее из одной цифры.\n",
        "Например, для входного числа:\n",
        "· 39 функция должна вернуть 3, так как 3*9=27 => 2*7=14 => 1*4=4\n",
        "· 4 функция должна вернуть 0, так как число уже состоит из одной цифры\n",
        "· 999 функция должна вернуть 4, так как 9*9*9=729 => 7*2*9=126 => 1*2*6=12 =>\n",
        "1*2=2. Написать тесты для кода"
      ]
    },
    {
      "cell_type": "code",
      "execution_count": null,
      "metadata": {
        "id": "BH1A_Mgi6i4G"
      },
      "outputs": [],
      "source": [
        "def magic(n):\n",
        "    # Your code goes here\n",
        "    pass"
      ]
    },
    {
      "cell_type": "markdown",
      "metadata": {
        "id": "0nS-kIa8g8vd"
      },
      "source": [
        "# Задача 5\n",
        "Написать функцию, которая принимает два целочисленных вектора одинаковой длины и\n",
        "возвращает среднеквадратическое отклонение двух векторов. Написать тесты для кода"
      ]
    },
    {
      "cell_type": "code",
      "execution_count": null,
      "metadata": {
        "id": "8iphx4LM6xbx"
      },
      "outputs": [],
      "source": [
        "def mse(pred, true):\n",
        "    # Your code goes here\n",
        "    pass"
      ]
    },
    {
      "cell_type": "markdown",
      "metadata": {
        "id": "vpIPKL439zkw"
      },
      "source": [
        "# Задача 6\n",
        "Написать функцию, принимающая целое положительное число. Функция должна вернуть\n",
        "строку вида “(n1**p1)(n2**p2)…(nk**pk)” представляющая разложение числа на простые\n",
        "множители (если pi == 1, то выводить только ni).\n",
        "Например, для числа 86240 функция должна вернуть “(2**5)(5)(7**2)(11)”. Написать тесты для кода"
      ]
    },
    {
      "cell_type": "code",
      "execution_count": null,
      "metadata": {
        "id": "pFebmcZk94Jw"
      },
      "outputs": [],
      "source": [
        "# Your code goes here"
      ]
    },
    {
      "cell_type": "markdown",
      "metadata": {
        "id": "ps2s0BudX7A2"
      },
      "source": [
        "# Задача 7\n",
        "Написать функцию, принимающая целое число n, задающее количество кубиков. Функция\n",
        "должна определить, можно ли из данного кол-ва кубиков построить пирамиду, то есть\n",
        "можно ли представить число n как 1^2+2^2+3^2+…+k^2. Если можно, то функция должна\n",
        "вернуть k, иначе строку “It is impossible”. Написать тесты для кода"
      ]
    },
    {
      "cell_type": "code",
      "execution_count": null,
      "metadata": {
        "id": "3YPjEXxhX_YT"
      },
      "outputs": [],
      "source": [
        "def pyramid(number):\n",
        "    k = 1\n",
        "    sm = 0\n",
        "    while sm < number:\n",
        "        sm += k**2\n",
        "        k += 1\n",
        "    if sm != number or number <= 0:\n",
        "        return 'It is impossible'\n",
        "    else:\n",
        "        return k-1\n",
        "\n",
        "def test_pyramid():\n",
        "    assert pyramid(0) == 'It is impossible'\n",
        "    assert pyramid(5) == 2\n",
        "    assert pyramid(13) == 'It is impossible'\n",
        "    assert pyramid(-1) == 'It is impossible'\n",
        "\n",
        "\n",
        "test_pyramid()"
      ]
    },
    {
      "cell_type": "markdown",
      "metadata": {
        "id": "KeKgmIdAQMEJ"
      },
      "source": [
        "# Задача 8\n",
        "Функция принимает на вход положительное число и определяет является ли оно сбалансированным, т.е. сумма цифр до средних равна сумме цифр после. Средними в случае нечетного числа цифр считать одну цифру, в случае четного - две средних. Написать тесты для кода"
      ]
    },
    {
      "cell_type": "code",
      "execution_count": null,
      "metadata": {
        "id": "gMAAqtqlQrZt"
      },
      "outputs": [],
      "source": [
        "# Your code goes here\n",
        "def num_balance_check(num):\n",
        "    string = str(num)\n",
        "    mid_index1 = len(string)//2 - (1 - len(string) % 2)\n",
        "    mid_index2 = mid_index1 + 1 + (1 - len(string) % 2)\n",
        "    part1 = string[:mid_index1]\n",
        "    part2 = string[mid_index2:]\n",
        "    return sum(map(int, part1)) == sum(map(int, part2))\n",
        "\n",
        "def test_num_balance_check():\n",
        "    assert num_balance_check(12321) == True\n",
        "    assert num_balance_check(123321) == True\n",
        "    assert num_balance_check(123345) == False\n",
        "    assert num_balance_check(0) == True\n",
        "\n",
        "\n",
        "test_num_balance_check()"
      ]
    }
  ],
  "metadata": {
    "colab": {
      "provenance": []
    },
    "kernelspec": {
      "display_name": "Python 3",
      "name": "python3"
    },
    "language_info": {
      "name": "python"
    }
  },
  "nbformat": 4,
  "nbformat_minor": 0
}
