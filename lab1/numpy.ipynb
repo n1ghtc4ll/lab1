{
  "cells": [
    {
      "cell_type": "markdown",
      "metadata": {
        "id": "vC84e9kzyxPy"
      },
      "source": [
        "<h1>Импорт библиотек"
      ]
    },
    {
      "cell_type": "code",
      "execution_count": 3,
      "metadata": {
        "id": "cgKeNegmQG5S"
      },
      "outputs": [],
      "source": [
        "import numpy as np\n",
        "import matplotlib.pyplot as plt"
      ]
    },
    {
      "cell_type": "markdown",
      "metadata": {
        "id": "qFM9uVU2x4Ls"
      },
      "source": [
        "<h1>Задача 1. Дан набор из $p$ матриц размерностью $(n, n)$ и $p$ векторов размерностью $(n, 1)$, найти сумму произведений матриц на векторы. Написать тесты для кода"
      ]
    },
    {
      "cell_type": "code",
      "execution_count": null,
      "metadata": {
        "id": "IAbUvEiYyWFF"
      },
      "outputs": [],
      "source": [
        "def sum_prod(X, V):\n",
        "    '''\n",
        "    X - матрицы (n, n)\n",
        "    V - векторы (n, 1)\n",
        "    Гарантируется, что len(X) == len(V)\n",
        "    '''\n",
        "    result = np.zeros((len(V[0]), 1))\n",
        "    for i in range(len(X)):\n",
        "        result += np.matmul(X[i], V[i])\n",
        "    return result\n",
        "\n",
        "def test_sum_prod():\n",
        "    a = np.array([[[1, 2, 3], [4, 5, 6], [4, 5, 6]], [[1, 2, 3], [4, 5, 6], [4, 5, 6]]])\n",
        "    b = np.array([[[4], [3], [2]], [[2], [3], [4]]])\n",
        "    result = np.array([[36], [90], [90]])\n",
        "    assert np.array_equal(sum_prod(a, b), result) == True\n",
        "\n",
        "\n",
        "test_sum_prod()"
      ]
    },
    {
      "cell_type": "markdown",
      "metadata": {
        "id": "TKwPG4fIy2w4"
      },
      "source": [
        "<h1>Задача 2. Дана матрица M, напишите функцию, которая бинаризует матрицу по некоторому threshold (то есть, все значения большие threshold становятся равными 1, иначе 0). Напишите тесты для кода"
      ]
    },
    {
      "cell_type": "code",
      "execution_count": null,
      "metadata": {
        "id": "KQDNMgsjRNH7"
      },
      "outputs": [],
      "source": [
        "def binarize(M, threshold=0.5):\n",
        "    return np.where(M > threshold, 1, 0)\n",
        "\n",
        "def test_binarize():\n",
        "    M = np.array([[0.3, 2, 3], [0.7, 0.2, 2], [0.4, 4, 0.1]])\n",
        "    right_answer = np.array([[0, 1, 1], [1, 0, 1], [0, 1, 0]])\n",
        "    assert np.array_equal(binarize(M), right_answer) == True\n",
        "\n",
        "\n",
        "test_binarize()\n"
      ]
    },
    {
      "cell_type": "markdown",
      "metadata": {
        "id": "IY5L-h-7zWhN"
      },
      "source": [
        "<h1>Задача 3. Напишите функцию, которая возвращает уникальные элементы из каждой строки матрицы. Напишите такую же функцию, но для столбцов. Напишите тесты для кода"
      ]
    },
    {
      "cell_type": "code",
      "execution_count": null,
      "metadata": {
        "id": "-8dEZhR0SBC-"
      },
      "outputs": [],
      "source": [
        "def unique_rows(mat):\n",
        "    return [list(np.unique(row)) for row in mat]\n",
        "\n",
        "def unique_columns(mat):\n",
        "    return [list(np.unique(col)) for col in mat.T]\n",
        "\n",
        "def test_unique_rows():\n",
        "    mat1 = np.array([[1, 2, 3], [4, 5, 6], [7, 8, 9]])\n",
        "    mat2 = np.array([[1, 6, 3], [2, 4, 2], [7, 7, 7]])\n",
        "    mat3 = np.array([[1, 1, 1], [2, 2, 2], [3, 3, 3]])\n",
        "\n",
        "    mat1_result = [[1, 2, 3], [4, 5, 6], [7, 8, 9]]\n",
        "    mat2_result = [[1, 3, 6], [2, 4], [7]]\n",
        "    mat3_result = [[1], [2], [3]]\n",
        "\n",
        "    assert unique_rows(mat1) == mat1_result\n",
        "    assert unique_rows(mat2) == mat2_result\n",
        "    assert unique_rows(mat3) == mat3_result\n",
        "\n",
        "def test_unique_columns():\n",
        "    mat1 = np.array([[1, 2, 3], [4, 5, 6], [7, 8, 9]])\n",
        "    mat2 = np.array([[1, 4, 3], [2, 4, 3], [7, 7, 3]])\n",
        "    mat3 = np.array([[1, 2, 3], [1, 2, 3], [1, 2, 3]])\n",
        "\n",
        "    mat1_result = [[1, 4, 7], [2, 5, 8], [3, 6, 9]]\n",
        "    mat2_result = [[1, 2, 7], [4, 7], [3]]\n",
        "    mat3_result = [[1], [2], [3]]\n",
        "\n",
        "    assert unique_columns(mat1) == mat1_result\n",
        "    assert unique_columns(mat2) == mat2_result\n",
        "    assert unique_columns(mat3) == mat3_result\n",
        "\n",
        "\n",
        "test_unique_rows()\n",
        "test_unique_columns()"
      ]
    },
    {
      "cell_type": "markdown",
      "metadata": {
        "id": "roYAlo4Jz-lH"
      },
      "source": [
        "<h1>Задача 4. Напишите функцию, которая заполняет матрицу с размерами $(m, n)$ случайными числами, распределенными по нормальному закону. Затем считает мат. ожидание и дисперсию для каждого из столбцов и строк, а также строит для каждой строки и столбца гистограмму значений (использовать функцию hist из модуля matplotlib.plot)"
      ]
    },
    {
      "cell_type": "code",
      "execution_count": null,
      "metadata": {
        "id": "nZK_71hMSQzv"
      },
      "outputs": [],
      "source": [
        "# Your code goes here\n",
        "def matrix_stats(row, column):\n",
        "    matrix_rows = np.random.normal(size=(row, column))\n",
        "    matrix_columns = matrix_rows.T\n",
        "\n",
        "    for i in range(row):\n",
        "        mean = np.mean(matrix_rows[i])\n",
        "        var = np.var(matrix_rows[i])\n",
        "        plt.hist(matrix_rows[i])\n",
        "        plt.title(f'Row {i}, mean = {mean}, var = {var}')\n",
        "        plt.show()\n",
        "\n",
        "    for i in range(column):\n",
        "        mean = np.mean(matrix_columns[i])\n",
        "        var = np.var(matrix_columns[i])\n",
        "        plt.hist(matrix_columns[i])\n",
        "        plt.title(f'Column {i}, mean = {mean}, var = {var}')\n",
        "        plt.show()\n",
        "\n",
        "\n",
        "matrix_stats(3, 4)"
      ]
    },
    {
      "cell_type": "markdown",
      "metadata": {
        "id": "BDyATNdM0dJ2"
      },
      "source": [
        "<h1>Задача 5. Напишите функцию, которая заполняет матрицу $(m, n)$ в шахматном порядке заданными числами $a$ и $b$. Напишите тесты для кода"
      ]
    },
    {
      "cell_type": "code",
      "execution_count": null,
      "metadata": {
        "id": "RWNJYWQGecS6"
      },
      "outputs": [],
      "source": [
        "def chess(m, n, a, b):\n",
        "    matrix = np.zeros((m, n))\n",
        "    for i in range(m):\n",
        "        for j in range(n):\n",
        "            if (i+j) % 2 == 0:\n",
        "                matrix[i, j] = a\n",
        "            else:\n",
        "                matrix[i, j] = b\n",
        "    return matrix\n",
        "\n",
        "def test_chess():\n",
        "    test1_result = np.array([[1, 2, 1, 2], [2, 1, 2, 1], [1, 2, 1, 2]])\n",
        "    test2_result = np.array([[1, 2, 1], [2, 1, 2], [1, 2, 1], [2, 1, 2]])\n",
        "    assert np.array_equal(chess(3, 4, 1, 2), test1_result)\n",
        "    assert np.array_equal(chess(4, 3, 1, 2), test2_result)\n",
        "\n",
        "\n",
        "test_chess()"
      ]
    },
    {
      "cell_type": "markdown",
      "metadata": {
        "id": "-ymXLtTN0vB6"
      },
      "source": [
        "<h1>Задача 6. Напишите функцию, которая отрисовывает прямоугольник с заданными размерами (a, b) на изображении размера (m, n), цвет фона задайте в схеме RGB, как и цвет прямоугольника. Цвета также должны быть параметрами функции. Напишите аналогичную функцию но для овала с полуосями a и b. Напишите тесты для кода.\n",
        "Примечание: уравнение эллипса (границы овала) можно записать как:\n",
        "<h1>$\\frac{(x-x_0)^2}{a^2}+\\frac{(y-y_0)^2}{b^2}=1$"
      ]
    },
    {
      "cell_type": "code",
      "execution_count": 1,
      "metadata": {
        "id": "sNfl1t_kfOF4"
      },
      "outputs": [],
      "source": [
        "def draw_rectangle(a, b, m, n, rectangle_color, background_color):\n",
        "    image = np.full((m, n, 3), fill_value=background_color)\n",
        "    image[:a, :b] = rectangle_color\n",
        "    plt.imshow(image)\n",
        "    plt.axis('off')\n",
        "    plt.show()\n",
        "\n",
        "def draw_ellipse(a, b, m, n, ellipse_color, background_color):\n",
        "    image = np.full((m, n, 3), fill_value=background_color)\n",
        "    x = np.linspace(-a, a, n)\n",
        "    y = np.linspace(-b, b, m)\n",
        "    X, Y = np.meshgrid(x, y)\n",
        "    ellipse = (X**2 / a**2) + (Y**2 / b**2) <= 1\n",
        "    image[ellipse] = ellipse_color\n",
        "    plt.imshow(image)\n",
        "    plt.axis('off')\n",
        "    plt.show()\n",
        "\n",
        "\n",
        "draw_ellipse(600, 800, 1080, 1920, (0, 0, 0), (0, 0, 100))"
      ]
    },
    {
      "cell_type": "markdown",
      "metadata": {
        "id": "S82c38oz244H"
      },
      "source": [
        "<h1>Задача 7. Дан некий временной ряд. Для данного ряда нужно найти его: математическое ожидание, дисперсию, СКО, найти все локальные максимумы и минимумы (локальный максимум - это точка, которая больше своих соседних точек, а локальный минимум - это точка, которая меньше своих соседей), а также вычислить для данного ряда другой ряд, получаемый методом скользящего среднего с размером окна $p$.\n",
        "<h1>Примечание: метод скользящего среднего подразумевает нахождение среднего из подмножетсва ряда размером $p$"
      ]
    },
    {
      "cell_type": "code",
      "execution_count": null,
      "metadata": {
        "id": "Zb9mIVge5MMt"
      },
      "outputs": [],
      "source": [
        "# Your code goes here"
      ]
    },
    {
      "cell_type": "markdown",
      "metadata": {
        "id": "jPkylmOX5O9n"
      },
      "source": [
        "<h1> Задача 8. Дан некоторый вектор с целочисленными метками классов, напишите функцию, которая выполняет one-hot-encoding для данного вектора\n",
        "<h1> One-hot-encoding - представление, в котором на месте метки некоторого класса стоит 1, в остальных позициях стоит 0. Например для вектора [0, 2, 3, 0] one-hot-encoding выглядит как: [[1, 0, 0, 0], [0, 0, 1, 0], [0, 0, 0, 1], [1, 0, 0, 0]]"
      ]
    },
    {
      "cell_type": "code",
      "execution_count": null,
      "metadata": {
        "id": "Y-jlnZvw56lD"
      },
      "outputs": [],
      "source": [
        "# Your code goes here"
      ]
    }
  ],
  "metadata": {
    "colab": {
      "provenance": []
    },
    "kernelspec": {
      "display_name": "Python 3",
      "name": "python3"
    },
    "language_info": {
      "name": "python"
    }
  },
  "nbformat": 4,
  "nbformat_minor": 0
}
